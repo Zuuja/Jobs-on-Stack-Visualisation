{
 "cells": [
  {
   "cell_type": "code",
   "execution_count": 1,
   "metadata": {
    "collapsed": true
   },
   "outputs": [],
   "source": [
    "import requests\n",
    "from bs4 import BeautifulSoup\n",
    "from time import sleep\n",
    "import json"
   ]
  },
  {
   "cell_type": "code",
   "execution_count": 2,
   "metadata": {
    "collapsed": true
   },
   "outputs": [],
   "source": [
    "# both \"\"http://stackoverflow.com/jobs\" and \"http://careers.stackoverflow.com/jobs\" work"
   ]
  },
  {
   "cell_type": "code",
   "execution_count": 3,
   "metadata": {
    "collapsed": true
   },
   "outputs": [],
   "source": [
    "r = requests.get(\"http://stackoverflow.com/jobs\",\n",
    "                 params={\"sort\": \"p\", \"pg\": 2})"
   ]
  },
  {
   "cell_type": "code",
   "execution_count": 4,
   "metadata": {
    "collapsed": false
   },
   "outputs": [
    {
     "data": {
      "text/plain": [
       "200"
      ]
     },
     "execution_count": 4,
     "metadata": {},
     "output_type": "execute_result"
    }
   ],
   "source": [
    "r.status_code"
   ]
  },
  {
   "cell_type": "code",
   "execution_count": 6,
   "metadata": {
    "collapsed": false
   },
   "outputs": [],
   "source": [
    "soup = BeautifulSoup(r.content)"
   ]
  },
  {
   "cell_type": "code",
   "execution_count": 7,
   "metadata": {
    "collapsed": false
   },
   "outputs": [],
   "source": [
    "jobs = soup.find_all(\"div\", [\"-item\", \"-job\"])"
   ]
  },
  {
   "cell_type": "code",
   "execution_count": 8,
   "metadata": {
    "collapsed": false
   },
   "outputs": [],
   "source": [
    "job = jobs[0]"
   ]
  },
  {
   "cell_type": "code",
   "execution_count": 10,
   "metadata": {
    "collapsed": false
   },
   "outputs": [
    {
     "data": {
      "text/plain": [
       "<div class=\"-item -job _highlighted _topspot\" data-jobid=\"82835\">\n",
       "<span class=\"_badge\">\n",
       "                    featured\n",
       "                </span>\n",
       "<span class=\"fav-toggle\" data-href=\"//careers.stackoverflow.com/users/login?returnUrl=%2Fso-proxy%2Fjobs%3Fsort%3Dp%26pg%3D2\" data-jobid=\"82835\"></span>\n",
       "<div class=\"-title\">\n",
       "<h1>\n",
       "<a class=\"job-link\" href=\"/jobs/82835/java-engineer-with-hadoop-cognitive-medical-systems?a=rMnAVaektIA&amp;offset=4&amp;pg=2&amp;sort=p\" title=\"Java Engineer with Hadoop\">Java Engineer with Hadoop</a> </h1>\n",
       "</div>\n",
       "<ul class=\"metadata primary\">\n",
       "<li class=\"employer\">\n",
       "                    Cognitive Medical Systems\n",
       "                </li>\n",
       "<li class=\"location\">\n",
       "                    San Diego, CA\n",
       "                </li>\n",
       "</ul>\n",
       "<p class=\"text _muted _small description\">Position Summary:\n",
       "We are looking for a Hadoop System Engineer to design, implement and maintain a large…</p>\n",
       "<div class=\"tags\">\n",
       "<p><a class=\"post-tag job-link no-tag-menu\" href=\"/jobs/tag/hadoop\">hadoop</a> <a class=\"post-tag job-link no-tag-menu\" href=\"/jobs/tag/hbase\">hbase</a> <a class=\"post-tag job-link no-tag-menu\" href=\"/jobs/tag/hdfs\">hdfs</a> <a class=\"post-tag job-link no-tag-menu\" href=\"/jobs/tag/mapreduce\">mapreduce</a> <a class=\"post-tag job-link no-tag-menu\" href=\"/jobs/tag/java\">java</a> <a class=\"post-tag job-link no-tag-menu\" href=\"/jobs/tag/sysadmin\">sysadmin</a></p>\n",
       "</div>\n",
       "<p class=\"text _small posted bottom\">\n",
       "                    10 hours ago\n",
       "                </p>\n",
       "</div>"
      ]
     },
     "execution_count": 10,
     "metadata": {},
     "output_type": "execute_result"
    }
   ],
   "source": [
    "job"
   ]
  },
  {
   "cell_type": "code",
   "execution_count": 9,
   "metadata": {
    "collapsed": false
   },
   "outputs": [
    {
     "data": {
      "text/plain": [
       "{'class': ['-item', '-job', '_highlighted', '_topspot'], 'data-jobid': '82835'}"
      ]
     },
     "execution_count": 9,
     "metadata": {},
     "output_type": "execute_result"
    }
   ],
   "source": [
    "job.attrs"
   ]
  },
  {
   "cell_type": "code",
   "execution_count": 23,
   "metadata": {
    "collapsed": false
   },
   "outputs": [],
   "source": [
    "tags = [each.text for each in job.find_all(\"a\", [\"post-tag\"])]"
   ]
  },
  {
   "cell_type": "code",
   "execution_count": 24,
   "metadata": {
    "collapsed": false
   },
   "outputs": [
    {
     "data": {
      "text/plain": [
       "['testcomplete', 'javascript', 'java', 'smartbear-testcomplete']"
      ]
     },
     "execution_count": 24,
     "metadata": {},
     "output_type": "execute_result"
    }
   ],
   "source": [
    "tags"
   ]
  },
  {
   "cell_type": "code",
   "execution_count": 27,
   "metadata": {
    "collapsed": false
   },
   "outputs": [
    {
     "data": {
      "text/plain": [
       "'Test Automation Engineer ATC Global - $15/hr, 100% remote position'"
      ]
     },
     "execution_count": 27,
     "metadata": {},
     "output_type": "execute_result"
    }
   ],
   "source": [
    "job.find(\"div\", \"-title\").find(\"a\", \"job-link\").text"
   ]
  },
  {
   "cell_type": "code",
   "execution_count": 30,
   "metadata": {
    "collapsed": false
   },
   "outputs": [
    {
     "data": {
      "text/plain": [
       "'Crossover'"
      ]
     },
     "execution_count": 30,
     "metadata": {},
     "output_type": "execute_result"
    }
   ],
   "source": [
    "job.find(\"li\", \"employer\").text.strip()"
   ]
  },
  {
   "cell_type": "code",
   "execution_count": 31,
   "metadata": {
    "collapsed": false
   },
   "outputs": [
    {
     "data": {
      "text/plain": [
       "'Bengaluru, India'"
      ]
     },
     "execution_count": 31,
     "metadata": {},
     "output_type": "execute_result"
    }
   ],
   "source": [
    "job.find(\"li\", \"location\").text.strip()"
   ]
  },
  {
   "cell_type": "code",
   "execution_count": 84,
   "metadata": {
    "collapsed": false
   },
   "outputs": [],
   "source": [
    "def process_site(page_n):\n",
    "    # i need to fake it otherwise I get wrong data\n",
    "    headers = {'User-Agent': 'Mozilla/5.0 (Macintosh; Intel Mac OS X 10_10_1) AppleWebKit/537.36 (KHTML, like Gecko) Chrome/39.0.2171.95 Safari/537.36'}\n",
    "    r = requests.get(\"http://careers.stackoverflow.com/jobs\",\n",
    "                     params={\"sort\": \"p\", \"pg\": page_n},\n",
    "                     headers=headers)\n",
    "    soup = BeautifulSoup(r.content)\n",
    "    jobs = soup.find_all(\"div\", [\"-item\", \"-job\"])\n",
    "    return [parse_job(job) for job in jobs]"
   ]
  },
  {
   "cell_type": "code",
   "execution_count": 85,
   "metadata": {
    "collapsed": true
   },
   "outputs": [],
   "source": [
    "def parse_job(job):\n",
    "    res = {}\n",
    "    res[\"title\"] = job.find(\"div\", \"-title\").find(\"a\", \"job-link\").text\n",
    "    res[\"employer\"] = job.find(\"li\", \"employer\").text.strip()\n",
    "    res[\"location\"] = job.find(\"li\", \"location\").text.strip()\n",
    "    res[\"featured\"] = \"_highlighted\" in job.attrs[\"class\"]\n",
    "    res[\"topspot\"] = \"_topspot\" in job.attrs[\"class\"]\n",
    "    res[\"job_id\"] = job.attrs[\"data-jobid\"]\n",
    "    res[\"tags\"] = [each.text for each in job.find_all(\"a\", [\"post-tag\"])]\n",
    "    return res"
   ]
  },
  {
   "cell_type": "code",
   "execution_count": 86,
   "metadata": {
    "collapsed": false
   },
   "outputs": [
    {
     "name": "stdout",
     "output_type": "stream",
     "text": [
      "1 2 3 4 5 6 7 8 9 10 11 12 13 14 15 16 17 18 19 20 21 22 23 24 25 26 27 28 29 30 31 32 33 34 35 36 37 38 39 40 Only 4 offers\n"
     ]
    }
   ],
   "source": [
    "offers_json = []\n",
    "for page_n in range(1, 41):\n",
    "    print(page_n, end=\" \")\n",
    "    offers_n = process_site(page_n)\n",
    "    if len(offers_n) != 25:\n",
    "        print(\"Only {} offers\".format(len(offers_n)))\n",
    "    offers_json += offers_n\n",
    "    sleep(10)"
   ]
  },
  {
   "cell_type": "code",
   "execution_count": 87,
   "metadata": {
    "collapsed": false
   },
   "outputs": [
    {
     "data": {
      "text/plain": [
       "979"
      ]
     },
     "execution_count": 87,
     "metadata": {},
     "output_type": "execute_result"
    }
   ],
   "source": [
    "len(offers_json)"
   ]
  },
  {
   "cell_type": "code",
   "execution_count": 89,
   "metadata": {
    "collapsed": false
   },
   "outputs": [],
   "source": [
    "json.dump(offers_json, open(\"careers_so_20160125.json\", \"w\"), indent=2)"
   ]
  },
  {
   "cell_type": "code",
   "execution_count": null,
   "metadata": {
    "collapsed": true
   },
   "outputs": [],
   "source": []
  }
 ],
 "metadata": {
  "kernelspec": {
   "display_name": "IPython (Python 3)",
   "language": "python",
   "name": "python3"
  },
  "language_info": {
   "codemirror_mode": {
    "name": "ipython",
    "version": 3
   },
   "file_extension": ".py",
   "mimetype": "text/x-python",
   "name": "python",
   "nbconvert_exporter": "python",
   "pygments_lexer": "ipython3",
   "version": "3.4.3"
  }
 },
 "nbformat": 4,
 "nbformat_minor": 0
}
